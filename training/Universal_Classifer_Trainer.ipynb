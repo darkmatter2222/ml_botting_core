{
 "cells": [
  {
   "cell_type": "code",
   "execution_count": null,
   "id": "eacfe27b-0b5a-4eb4-9c92-72865e727827",
   "metadata": {
    "tags": []
   },
   "outputs": [],
   "source": [
    "import sys, os, decimal, json\n",
    "sys.path.append(os.path.realpath('..'))\n",
    "import json, time\n",
    "import pandas as pd\n",
    "import matplotlib.pyplot as plt\n",
    "\n",
    "from ml_botting_core.classification.universal_classifier_trainer import build_and_train\n",
    "\n",
    "import seaborn as sns\n",
    "import mplcyberpunk\n",
    "\n",
    "plt.style.use(\"cyberpunk\")\n",
    "plt.rcParams['figure.facecolor'] = '#0d1117'\n",
    "plt.rcParams['axes.facecolor'] = '#0d1117'\n",
    "plt.rcParams['savefig.facecolor'] = '#0d1117'"
   ]
  },
  {
   "cell_type": "code",
   "execution_count": null,
   "id": "f7dd1030-a1e4-472a-863d-04f57e9893b1",
   "metadata": {
    "tags": []
   },
   "outputs": [],
   "source": [
    "from google.cloud import storage\n",
    "import os\n",
    "from pathlib import Path\n",
    "from dotenv import load_dotenv\n",
    "\n",
    "env_path = Path(fr\"{os.environ['USERPROFILE']}\\.env\")\n",
    "load_dotenv(dotenv_path=env_path)\n",
    "\n",
    "os.environ[\"GOOGLE_APPLICATION_CREDENTIALS\"] = os.getenv(\"Eve_Online_GCP_Creds_File\")\n",
    "\n",
    "def save_to_gcp(source_file, dest_file):\n",
    "    storage_client = storage.Client()\n",
    "    bucket = storage_client.get_bucket(\"eve_online_models\") # your bucket name\n",
    "    blob = bucket.blob(dest_file) \n",
    "    blob.upload_from_filename(source_file)"
   ]
  },
  {
   "cell_type": "code",
   "execution_count": null,
   "id": "458a9451-6dad-463b-a6eb-e001a5794807",
   "metadata": {
    "tags": []
   },
   "outputs": [],
   "source": [
    "def render_cm(stats):\n",
    "    df_cm = pd.DataFrame(stats['cm'])\n",
    "    plt.figure(figsize = (10,10))\n",
    "    sns.heatmap(df_cm, annot=True)\n",
    "\n",
    "def write_rendering(file, rendering_dict):\n",
    "    json_object = json.dumps(rendering_dict, indent=1)\n",
    "    with open(file, \"w\") as outfile:\n",
    "        outfile.write(json_object)    "
   ]
  },
  {
   "cell_type": "code",
   "execution_count": null,
   "id": "465351f0-2e13-4276-97ab-3ab2247f21f2",
   "metadata": {
    "tags": []
   },
   "outputs": [],
   "source": [
    "model_name = 'game_state'\n",
    "training_root = r'O:\\eve_models\\training_data\\game_state'\n",
    "model_file = f'{training_root}/{model_name}_model.h5'\n",
    "meta_file = f'{training_root}/{model_name}_meta.json'\n",
    "\n",
    "params = {\n",
    "    'root_image_directory': training_root,\n",
    "    'model_location': model_file,\n",
    "    'model_name': model_name\n",
    "}\n",
    "\n",
    "stats, rendering = build_and_train(**params)\n",
    "render_cm(stats)\n",
    "write_rendering(meta_file, rendering)\n",
    "print(rendering)\n",
    "\n",
    "save_to_gcp(source_file=model_file, dest_file=f'{model_name}/{model_name}_model.h5')\n",
    "save_to_gcp(source_file=meta_file, dest_file=f'{model_name}/{model_name}_meta.json')"
   ]
  },
  {
   "cell_type": "code",
   "execution_count": null,
   "id": "a596993a-019d-4fb9-86e2-767464b6ab86",
   "metadata": {
    "tags": []
   },
   "outputs": [],
   "source": [
    "model_name = 'set_dest'\n",
    "training_root = r'O:\\eve_models\\training_data\\set_dest'\n",
    "model_file = f'{training_root}/{model_name}_model.h5'\n",
    "meta_file = f'{training_root}/{model_name}_meta.json'\n",
    "\n",
    "params = {\n",
    "    'root_image_directory': training_root,\n",
    "    'model_location': model_file,\n",
    "    'model_name': model_name\n",
    "}\n",
    "\n",
    "stats, rendering = build_and_train(**params)\n",
    "render_cm(stats)\n",
    "write_rendering(meta_file, rendering)\n",
    "print(rendering)\n",
    "\n",
    "save_to_gcp(source_file=model_file, dest_file=f'{model_name}/{model_name}_model.h5')\n",
    "save_to_gcp(source_file=meta_file, dest_file=f'{model_name}/{model_name}_meta.json')"
   ]
  },
  {
   "cell_type": "code",
   "execution_count": null,
   "id": "04018b05-b68e-42f2-b889-cfee51282761",
   "metadata": {
    "tags": []
   },
   "outputs": [],
   "source": [
    "model_name = 'hanger_menus'\n",
    "training_root = r'O:\\eve_models\\training_data\\hanger_menus'\n",
    "model_file = f'{training_root}/{model_name}_model.h5'\n",
    "meta_file = f'{training_root}/{model_name}_meta.json'\n",
    "\n",
    "params = {\n",
    "    'root_image_directory': training_root,\n",
    "    'model_location': model_file,\n",
    "    'model_name': model_name\n",
    "}\n",
    "\n",
    "stats, rendering = build_and_train(**params)\n",
    "render_cm(stats)\n",
    "write_rendering(meta_file, rendering)\n",
    "print(rendering)\n",
    "\n",
    "save_to_gcp(source_file=model_file, dest_file=f'{model_name}/{model_name}_model.h5')\n",
    "save_to_gcp(source_file=meta_file, dest_file=f'{model_name}/{model_name}_meta.json')"
   ]
  },
  {
   "cell_type": "code",
   "execution_count": null,
   "id": "78bb3c73-2cb0-4561-a0d6-9e6518e2bb16",
   "metadata": {
    "tags": []
   },
   "outputs": [],
   "source": [
    "model_name = 'nav_options'\n",
    "training_root = r'O:\\eve_models\\training_data\\nav_options'\n",
    "model_file = f'{training_root}/{model_name}_model.h5'\n",
    "meta_file = f'{training_root}/{model_name}_meta.json'\n",
    "\n",
    "params = {\n",
    "    'root_image_directory': training_root,\n",
    "    'model_location': model_file,\n",
    "    'model_name': model_name\n",
    "}\n",
    "\n",
    "stats, rendering = build_and_train(**params)\n",
    "render_cm(stats)\n",
    "write_rendering(meta_file, rendering)\n",
    "print(rendering)\n",
    "\n",
    "save_to_gcp(source_file=model_file, dest_file=f'{model_name}/{model_name}_model.h5')\n",
    "save_to_gcp(source_file=meta_file, dest_file=f'{model_name}/{model_name}_meta.json')"
   ]
  },
  {
   "cell_type": "code",
   "execution_count": null,
   "id": "ba1858e4-f634-4e57-94b2-52ce5ccd202f",
   "metadata": {
    "tags": []
   },
   "outputs": [],
   "source": [
    "model_name = 'mining_tool_state'\n",
    "training_root = r'O:\\eve_models\\training_data\\mining_tool_state'\n",
    "model_file = f'{training_root}/{model_name}_model.h5'\n",
    "meta_file = f'{training_root}/{model_name}_meta.json'\n",
    "\n",
    "params = {\n",
    "    'root_image_directory': training_root,\n",
    "    'model_location': model_file,\n",
    "    'model_name': model_name\n",
    "}\n",
    "\n",
    "stats, rendering = build_and_train(**params)\n",
    "render_cm(stats)\n",
    "write_rendering(meta_file, rendering)\n",
    "print(rendering)\n",
    "\n",
    "save_to_gcp(source_file=model_file, dest_file=f'{model_name}/{model_name}_model.h5')\n",
    "save_to_gcp(source_file=meta_file, dest_file=f'{model_name}/{model_name}_meta.json')"
   ]
  },
  {
   "cell_type": "code",
   "execution_count": null,
   "id": "abeffe2a-5b9a-4451-91fd-f2861b79856e",
   "metadata": {
    "tags": []
   },
   "outputs": [],
   "source": [
    "model_name = 'route_y_large_vert_class_v2'\n",
    "training_root = r'O:\\eve_models\\training_data\\route_y_large_vert_class_v2'\n",
    "model_file = f'{training_root}/{model_name}_model.h5'\n",
    "meta_file = f'{training_root}/{model_name}_meta.json'\n",
    "\n",
    "params = {\n",
    "    'root_image_directory': training_root,\n",
    "    'model_location': model_file,\n",
    "    'model_name': model_name,\n",
    "    'epochs':30, \n",
    "    'resize_ratio':1\n",
    "}\n",
    "\n",
    "stats, rendering = build_and_train(**params)\n",
    "render_cm(stats)\n",
    "write_rendering(meta_file, rendering)\n",
    "print(rendering)\n",
    "\n",
    "save_to_gcp(source_file=model_file, dest_file=f'{model_name}/{model_name}_model.h5')\n",
    "save_to_gcp(source_file=meta_file, dest_file=f'{model_name}/{model_name}_meta.json')"
   ]
  },
  {
   "cell_type": "code",
   "execution_count": null,
   "id": "11494f63-8f6e-46f9-88a3-890ddae150cb",
   "metadata": {},
   "outputs": [],
   "source": []
  }
 ],
 "metadata": {
  "kernelspec": {
   "display_name": "Python 3 (ipykernel)",
   "language": "python",
   "name": "python3"
  },
  "language_info": {
   "codemirror_mode": {
    "name": "ipython",
    "version": 3
   },
   "file_extension": ".py",
   "mimetype": "text/x-python",
   "name": "python",
   "nbconvert_exporter": "python",
   "pygments_lexer": "ipython3",
   "version": "3.10.10"
  }
 },
 "nbformat": 4,
 "nbformat_minor": 5
}
